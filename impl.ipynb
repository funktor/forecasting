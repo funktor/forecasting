{
 "cells": [
  {
   "cell_type": "code",
   "execution_count": null,
   "id": "54331801-54b2-442d-bbf4-1cfadd88618d",
   "metadata": {},
   "outputs": [],
   "source": [
    "import pandas as pd\n",
    "df = pd.read_csv(\"C:\\\\Users\\\\amondal\\\\Downloads\\\\mydata.csv\", sep=\",\")"
   ]
  },
  {
   "cell_type": "code",
   "execution_count": null,
   "id": "f11bd79c-46c7-4030-9b1f-740ed6b93e54",
   "metadata": {},
   "outputs": [],
   "source": [
    "from dotenv import load_dotenv\n",
    "import importlib\n",
    "import constants\n",
    "importlib.reload(constants)\n",
    "import constants as cnt\n",
    "import helper, model, train, blob_storage, run_batch, batch_task, batch, predict\n",
    "importlib.reload(batch)\n",
    "importlib.reload(helper)\n",
    "importlib.reload(model)\n",
    "importlib.reload(train)\n",
    "importlib.reload(blob_storage)\n",
    "importlib.reload(batch_task)\n",
    "importlib.reload(run_batch)\n",
    "importlib.reload(predict)\n",
    "from blob_storage import Blob\n",
    "import os"
   ]
  },
  {
   "cell_type": "code",
   "execution_count": null,
   "id": "8357dad8-5732-4d8d-b5c9-de920c514330",
   "metadata": {},
   "outputs": [],
   "source": [
    "load_dotenv()\n",
    "\n",
    "blob = Blob(\"storagetestamondal.blob.core.windows.net\", \n",
    "            \"10a20002-e9a2-4f67-abe7-614141828b0b\", \n",
    "            \"72f988bf-86f1-41af-91ab-2d7cd011db47\", \n",
    "            os.environ.get('SECRET'))"
   ]
  },
  {
   "cell_type": "code",
   "execution_count": null,
   "id": "1fc90596-3399-4d39-a39a-26755b8a46d6",
   "metadata": {},
   "outputs": [],
   "source": [
    "import uuid\n",
    "date_partition = \"2023/10/29\"\n",
    "run_id = str(uuid.uuid4())\n",
    "print(run_id)"
   ]
  },
  {
   "cell_type": "code",
   "execution_count": null,
   "id": "f6317fc5-8fca-4df2-8a1d-f09e7e1572b0",
   "metadata": {},
   "outputs": [],
   "source": [
    "import nest_asyncio\n",
    "nest_asyncio.apply()"
   ]
  },
  {
   "cell_type": "code",
   "execution_count": null,
   "id": "7cfb7b93-5270-4bbd-ace2-2a7f3e7d9ea6",
   "metadata": {},
   "outputs": [],
   "source": [
    "import asyncio, time\n",
    "\n",
    "start = time.time()\n",
    "\n",
    "loop = asyncio.get_event_loop()\n",
    "loop.run_until_complete(\\\n",
    "    run_batch.run(\\\n",
    "        df.copy(), \n",
    "        blob, \n",
    "        date_partition, \n",
    "        run_id,\n",
    "        \"amondal\", \n",
    "        os.environ.get('ACR_PWD'), \n",
    "        os.environ.get('SECRET'), \n",
    "        \"10a20002-e9a2-4f67-abe7-614141828b0b\", \n",
    "        \"72f988bf-86f1-41af-91ab-2d7cd011db47\", \n",
    "        \"forecast\", \n",
    "        \"amondalbatch.eastus.batch.azure.com\", \n",
    "        \"Standard_D4s_v3\", \n",
    "        100, \n",
    "        \"amondal.azurecr.io/num-cores-forecasting\", \n",
    "        \"amondal.azurecr.io\", \n",
    "        \"storagetestamondal.blob.core.windows.net\", \n",
    "        1000,\n",
    "        \"train\"\\\n",
    "))\n",
    "\n",
    "print(time.time()-start)"
   ]
  },
  {
   "cell_type": "code",
   "execution_count": null,
   "id": "64fda7bd-898b-45eb-b3b6-ff6fa253d30a",
   "metadata": {},
   "outputs": [],
   "source": [
    "start = time.time()\n",
    "loop = asyncio.get_event_loop()\n",
    "loop.run_until_complete(\\\n",
    "    run_batch.run(\\\n",
    "        df, \n",
    "        blob, \n",
    "        date_partition, \n",
    "        run_id,\n",
    "        \"amondal\", \n",
    "        os.environ.get('ACR_PWD'), \n",
    "        os.environ.get('SECRET'), \n",
    "        \"10a20002-e9a2-4f67-abe7-614141828b0b\", \n",
    "        \"72f988bf-86f1-41af-91ab-2d7cd011db47\", \n",
    "        \"forecast1\", \n",
    "        \"amondalbatch.eastus.batch.azure.com\", \n",
    "        \"Standard_D4s_v3\", \n",
    "        100, \n",
    "        \"amondal.azurecr.io/num-cores-forecasting\", \n",
    "        \"amondal.azurecr.io\", \n",
    "        \"storagetestamondal.blob.core.windows.net\", \n",
    "        1000,\n",
    "        \"predict\"\\\n",
    "    )\n",
    ")\n",
    "print(time.time()-start)"
   ]
  },
  {
   "cell_type": "code",
   "execution_count": null,
   "id": "78ddbaeb-3115-4c1c-bc2a-fd51074cdc3d",
   "metadata": {},
   "outputs": [],
   "source": []
  }
 ],
 "metadata": {
  "kernelspec": {
   "display_name": "Python 3 (ipykernel)",
   "language": "python",
   "name": "python3"
  },
  "language_info": {
   "codemirror_mode": {
    "name": "ipython",
    "version": 3
   },
   "file_extension": ".py",
   "mimetype": "text/x-python",
   "name": "python",
   "nbconvert_exporter": "python",
   "pygments_lexer": "ipython3",
   "version": "3.10.11"
  }
 },
 "nbformat": 4,
 "nbformat_minor": 5
}
